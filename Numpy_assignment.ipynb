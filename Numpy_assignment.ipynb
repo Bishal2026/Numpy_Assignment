{
 "cells": [
  {
   "cell_type": "markdown",
   "id": "374268b7-f6b6-44cb-aae4-1162a9af3cf3",
   "metadata": {},
   "source": [
    "***Q1***"
   ]
  },
  {
   "cell_type": "markdown",
   "id": "e94fa700-6538-40ca-a360-94a65b6d6bba",
   "metadata": {},
   "source": [
    "Yes, there is a difference in the data types of variables list_ and array_list."
   ]
  },
  {
   "cell_type": "markdown",
   "id": "a2050a7a-b690-4cdf-b254-c3eefba31989",
   "metadata": {},
   "source": [
    "The variable list_ is a Python list, which can contain elements of different data types. In this case, the elements are strings."
   ]
  },
  {
   "cell_type": "markdown",
   "id": "6c7a9f0f-aaef-437a-8216-268fff3c94ae",
   "metadata": {},
   "source": [
    "The variable array_list is a NumPy array created using the np.array() function."
   ]
  },
  {
   "cell_type": "code",
   "execution_count": 3,
   "id": "4e26dec4-adff-4231-aabd-6f0b545515fd",
   "metadata": {},
   "outputs": [
    {
     "name": "stdout",
     "output_type": "stream",
     "text": [
      "Data type of list_: <class 'list'>\n",
      "Data type of array_list: <U1\n"
     ]
    }
   ],
   "source": [
    "import numpy as np\n",
    "\n",
    "list_ = ['1', '2', '3', '4', '5']\n",
    "array_list = np.array(object=list_)\n",
    "\n",
    "print(\"Data type of list_:\", type(list_))\n",
    "print(\"Data type of array_list:\", array_list.dtype)"
   ]
  },
  {
   "cell_type": "markdown",
   "id": "0dc3b33a-4094-4465-8318-5c7f7dcdd517",
   "metadata": {},
   "source": [
    "***Q2***"
   ]
  },
  {
   "cell_type": "code",
   "execution_count": 6,
   "id": "1e5c88f9-9019-4ce6-a60b-c65f1b8d9c7a",
   "metadata": {},
   "outputs": [
    {
     "name": "stdout",
     "output_type": "stream",
     "text": [
      "Data types of elements in list_:\n",
      "<class 'str'>\n",
      "<class 'str'>\n",
      "<class 'str'>\n",
      "<class 'str'>\n",
      "<class 'str'>\n",
      "\n",
      "Data types of elements in array_list:\n",
      "<class 'numpy.str_'>\n",
      "<class 'numpy.str_'>\n",
      "<class 'numpy.str_'>\n",
      "<class 'numpy.str_'>\n",
      "<class 'numpy.str_'>\n"
     ]
    }
   ],
   "source": [
    "import numpy as np\n",
    "\n",
    "list_ = ['1', '2', '3', '4', '5']\n",
    "array_list = np.array(object=list_)\n",
    "\n",
    "\n",
    "print(\"Data types of elements in list_:\")\n",
    "for i in list_:\n",
    "    print(type(i))\n",
    "\n",
    "\n",
    "print(\"\\nData types of elements in array_list:\")\n",
    "for j in array_list:\n",
    "    print(type(j))"
   ]
  },
  {
   "cell_type": "markdown",
   "id": "aff84ed6-72fe-4568-8332-0d079ec3cb93",
   "metadata": {},
   "source": [
    "***Q3***"
   ]
  },
  {
   "cell_type": "markdown",
   "id": "9c896513-cba7-425f-ba3d-69809a3d6280",
   "metadata": {},
   "source": [
    "\n",
    "There will be a difference in the data types of the elements present in the variables list_ and array_list.\n",
    "\n",
    "\n",
    "There will be a difference in the data types of the elements present in the variables list_ and array_list.\n",
    "\n",
    "In the list_ variable, the elements are of type string because they are enclosed in single quotes (').\n",
    "\n",
    "\n",
    "In the array_list variable, the elements are converted to integers using the dtype=int "
   ]
  },
  {
   "cell_type": "code",
   "execution_count": 7,
   "id": "0f9a0339-9f53-44c6-af55-8784e7256065",
   "metadata": {},
   "outputs": [
    {
     "name": "stdout",
     "output_type": "stream",
     "text": [
      "Data types in list_:\n",
      "<class 'str'>\n",
      "<class 'str'>\n",
      "<class 'str'>\n",
      "<class 'str'>\n",
      "<class 'str'>\n",
      "\n",
      "Data types in array_list:\n",
      "<class 'numpy.int32'>\n",
      "<class 'numpy.int32'>\n",
      "<class 'numpy.int32'>\n",
      "<class 'numpy.int32'>\n",
      "<class 'numpy.int32'>\n"
     ]
    }
   ],
   "source": [
    "import numpy as np\n",
    "\n",
    "list_ = ['1', '2', '3', '4', '5']\n",
    "array_list = np.array(object=list_, dtype=int)\n",
    "\n",
    "print(\"Data types in list_:\")\n",
    "for i in list_:\n",
    "    print(type(i))\n",
    "\n",
    "print(\"\\nData types in array_list:\")\n",
    "for j in array_list:\n",
    "    print(type(j))"
   ]
  },
  {
   "cell_type": "markdown",
   "id": "6aeb3e3d-6249-4f24-8eee-5f5ef4cfe64b",
   "metadata": {},
   "source": [
    "***Q4***"
   ]
  },
  {
   "cell_type": "code",
   "execution_count": 8,
   "id": "8a8e189f-d95c-470c-8509-0f3892351676",
   "metadata": {},
   "outputs": [
    {
     "name": "stdout",
     "output_type": "stream",
     "text": [
      "Shape of num_array: (2, 3)\n",
      "Size of num_array: 6\n"
     ]
    }
   ],
   "source": [
    "import numpy as np\n",
    "\n",
    "num_list = [[1, 2, 3], [4, 5, 6]]\n",
    "num_array = np.array(object=num_list)\n",
    "\n",
    "# (i) shape\n",
    "print(\"Shape of num_array:\", num_array.shape)\n",
    "\n",
    "# (ii) size\n",
    "print(\"Size of num_array:\", num_array.size)"
   ]
  },
  {
   "cell_type": "markdown",
   "id": "b1d7633c-87a6-46ef-b6a2-91c3de0f6c51",
   "metadata": {},
   "source": [
    "***Q5***"
   ]
  },
  {
   "cell_type": "code",
   "execution_count": 12,
   "id": "2718a00e-a271-46c3-8c7f-85c25d05d6d9",
   "metadata": {},
   "outputs": [
    {
     "data": {
      "text/plain": [
       "array([[0., 0., 0.],\n",
       "       [0., 0., 0.],\n",
       "       [0., 0., 0.]])"
      ]
     },
     "execution_count": 12,
     "metadata": {},
     "output_type": "execute_result"
    }
   ],
   "source": [
    "import numpy as np\n",
    "\n",
    "array = np.zeros((3, 3))\n",
    "array\n",
    "\n"
   ]
  },
  {
   "cell_type": "code",
   "execution_count": 13,
   "id": "d20e5608-afe8-4ff2-b611-05fe051f1028",
   "metadata": {},
   "outputs": [
    {
     "data": {
      "text/plain": [
       "9"
      ]
     },
     "execution_count": 13,
     "metadata": {},
     "output_type": "execute_result"
    }
   ],
   "source": [
    "array.size"
   ]
  },
  {
   "cell_type": "code",
   "execution_count": 15,
   "id": "eb79c7af-7aa6-4261-93aa-51f966703bf2",
   "metadata": {},
   "outputs": [
    {
     "data": {
      "text/plain": [
       "(3, 3)"
      ]
     },
     "execution_count": 15,
     "metadata": {},
     "output_type": "execute_result"
    }
   ],
   "source": [
    "array.shape"
   ]
  },
  {
   "cell_type": "markdown",
   "id": "c44cb879-bd6f-49b7-bb12-1ab9df13403f",
   "metadata": {},
   "source": [
    "***Q6***"
   ]
  },
  {
   "cell_type": "code",
   "execution_count": 16,
   "id": "6f2ac2da-e1a5-4009-922d-dfd8430012f7",
   "metadata": {},
   "outputs": [
    {
     "data": {
      "text/plain": [
       "array([[1., 0., 0., 0., 0.],\n",
       "       [0., 1., 0., 0., 0.],\n",
       "       [0., 0., 1., 0., 0.],\n",
       "       [0., 0., 0., 1., 0.],\n",
       "       [0., 0., 0., 0., 1.]])"
      ]
     },
     "execution_count": 16,
     "metadata": {},
     "output_type": "execute_result"
    }
   ],
   "source": [
    "import numpy as np\n",
    "matrix = np.eye(5)\n",
    "matrix"
   ]
  },
  {
   "cell_type": "code",
   "execution_count": null,
   "id": "ef9abf10-e158-4a3b-998b-7956b45b5b54",
   "metadata": {},
   "outputs": [],
   "source": []
  }
 ],
 "metadata": {
  "kernelspec": {
   "display_name": "Python 3 (ipykernel)",
   "language": "python",
   "name": "python3"
  },
  "language_info": {
   "codemirror_mode": {
    "name": "ipython",
    "version": 3
   },
   "file_extension": ".py",
   "mimetype": "text/x-python",
   "name": "python",
   "nbconvert_exporter": "python",
   "pygments_lexer": "ipython3",
   "version": "3.10.9"
  }
 },
 "nbformat": 4,
 "nbformat_minor": 5
}
